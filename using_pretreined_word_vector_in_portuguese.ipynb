{
 "cells": [
  {
   "cell_type": "code",
   "execution_count": 2,
   "metadata": {
    "colab": {
     "base_uri": "https://localhost:8080/",
     "height": 395
    },
    "executionInfo": {
     "elapsed": 573,
     "status": "error",
     "timestamp": 1614258460951,
     "user": {
      "displayName": "Khaled Bakri",
      "photoUrl": "https://lh3.googleusercontent.com/a-/AOh14GhEQYM6B8s55Z2bHtR_64auFI4nMrKtBm7rKhdpnA=s64",
      "userId": "09013246694213318197"
     },
     "user_tz": 180
    },
    "id": "IXgPUFS8PvTg",
    "outputId": "1621ed3e-469c-4dc4-e837-e5255920aa84"
   },
   "outputs": [],
   "source": [
    "from gensim.models import KeyedVectors\n",
    "# Load vectors directly from the file\n",
    "# utilizar os modelos provenientes de http://nilc.icmc.usp.br/embeddings\n",
    "model = KeyedVectors.load_word2vec_format('skip_s50.txt', binary=False)\n",
    "# Access vectors for specific words with a keyed lookup:\n",
    "vector = model['facil']"
   ]
  },
  {
   "cell_type": "code",
   "execution_count": 12,
   "metadata": {
    "id": "sn4hOu1BSU4E"
   },
   "outputs": [
    {
     "name": "stdout",
     "output_type": "stream",
     "text": [
      "(50,)\n"
     ]
    }
   ],
   "source": [
    "# verifica a dimensão do vetor\n",
    "print(vector.shape)"
   ]
  },
  {
   "cell_type": "code",
   "execution_count": 3,
   "metadata": {},
   "outputs": [
    {
     "data": {
      "text/plain": [
       "[('rainha', 0.8746437430381775)]"
      ]
     },
     "execution_count": 3,
     "metadata": {},
     "output_type": "execute_result"
    }
   ],
   "source": [
    "# verifica analogia\n",
    "# resposta esperada = rainha\n",
    "model.most_similar(positive=['mulher','rei'],negative=['homem'],topn=1)"
   ]
  }
 ],
 "metadata": {
  "colab": {
   "authorship_tag": "ABX9TyPtLI6dm6NEYPoFFxWpIwA4",
   "name": "Untitled0.ipynb",
   "provenance": []
  },
  "kernelspec": {
   "display_name": "Python 3",
   "language": "python",
   "name": "python3"
  },
  "language_info": {
   "codemirror_mode": {
    "name": "ipython",
    "version": 3
   },
   "file_extension": ".py",
   "mimetype": "text/x-python",
   "name": "python",
   "nbconvert_exporter": "python",
   "pygments_lexer": "ipython3",
   "version": "3.8.5"
  }
 },
 "nbformat": 4,
 "nbformat_minor": 4
}
