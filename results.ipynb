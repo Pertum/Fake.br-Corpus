{
 "metadata": {
  "language_info": {
   "codemirror_mode": {
    "name": "ipython",
    "version": 3
   },
   "file_extension": ".py",
   "mimetype": "text/x-python",
   "name": "python",
   "nbconvert_exporter": "python",
   "pygments_lexer": "ipython3",
   "version": "3.8.8"
  },
  "orig_nbformat": 2,
  "kernelspec": {
   "name": "python388jvsc74a57bd0f41475ee6b5ae4ef3206a82eea1b75ab3af512ef9080130a7b32680a1fb34dd7",
   "display_name": "Python 3.8.8 64-bit ('ml-env': conda)"
  }
 },
 "nbformat": 4,
 "nbformat_minor": 2,
 "cells": [
  {
   "source": [
    "https://github.com/Pertum/Fake.br-Corpus"
   ],
   "cell_type": "markdown",
   "metadata": {}
  },
  {
   "source": [
    "Legitimate news blocked rate (LBR) or false positive rate:\n",
    "proportion of legitimate news incorrectly labeled as fake\n",
    "news (the lower, the better);  \n",
    "\n",
    "Fake news caught rate (FCR) or recall: proportion of fake\n",
    "news correctly identified (the higher, the better);  \n",
    "\n",
    "Fake news precision rate (FPR): proportion of news classified\n",
    "as fake and that truly belong to the fake class;  \n",
    "\n",
    "F-measure: harmonic average of the FCR and FPR."
   ],
   "cell_type": "markdown",
   "metadata": {}
  },
  {
   "source": [
    "## Lexical Feactures sem normalizar os textos\n",
    "    \n",
    "Lexical Feactures | LBR       | FCR       | FPR       | F-measure |   \n",
    "---------         | --------- | --------- | --------- | --------- |   \n",
    "LR (artigo)       | 0,081     | 0,928     | 0,921     | 0,924     | \n",
    "LR                | 0,047     | 0,956     | 0,953     | 0,955     | \n",
    "  \n",
    "    \n",
    "Acc. train         | Acc. val.          | Acc. test           |  \n",
    "---------          | ---------          | ---------           |  \n",
    "0.9544             | 0.9535             | 0.9542              |  \n"
   ],
   "cell_type": "markdown",
   "metadata": {}
  },
  {
   "source": [
    "## Lexical Feactures sem normalizar\n",
    "    \n",
    "LR/Lexical Feactures | LBR       | FCR       | FPR       | F-measure |   \n",
    "---------            | --------- | --------- | --------- | --------- |   \n",
    "pausality            | 0,328     | 0,617     | 0,672     | 0,643     | \n",
    "emotiveness          | 0,480     | 0,475     | 0,520     | 0,496     |\n",
    "pronoums             | 0,089     | 0,798     | 0,911     | 0,851     |\n",
    "diversity            | 0,093     | 0,911     | 0,907     | 0,909     | \n",
    "  \n",
    "    \n",
    "LR/Lexical Feactures | LBR       | FCR       | FPR       | F-measure |   \n",
    "---------            | --------- | --------- | --------- | --------- |   \n",
    "4 anteriores         | -         | -         | -         | -         | \n",
    "\n",
    "\n",
    "## Lexical Feactures com os textos normalizados\n",
    "    \n",
    "LR/Lexical Feactures | LBR       | FCR       | FPR       | F-measure |   \n",
    "---------            | --------- | --------- | --------- | --------- |   \n",
    "pausality            | 0,386     | 0,527     | 0,614     | 0,567     | \n",
    "emotiveness          | 0,417     | 0,599     | 0,583     | 0,591     |\n",
    "pronoums             | 0,456     | 0,624     | 0,544     | 0,581     |\n",
    "diversity            | 0,449     | 0,059     | 0,551     | 0,107     | \n",
    "  \n",
    "    \n",
    "LR/Lexical Feactures | LBR       | FCR       | FPR       | F-measure |   \n",
    "---------            | --------- | --------- | --------- | --------  |   \n",
    "4 anteriores         | 0,386     | 0,578     | 0,632     | 0,604     | \n",
    "\n"
   ],
   "cell_type": "markdown",
   "metadata": {}
  },
  {
   "source": [
    "## Word2Vec sem normalizar os textos\n",
    "\n",
    "Word2Vec    | LBR       | FCR       | FPR       | F-measure  | \n",
    "---------   | --------- | --------- | --------- |  --------- |\n",
    "LR (artigo) | 0.116     | 0.789     |  0.872    |  0.828     | \n",
    "LR          | 0.153     | 0.886     |  0.847    |  0.866     |"
   ],
   "cell_type": "markdown",
   "metadata": {}
  },
  {
   "source": [
    "## Word2Vec com os textos normalizados\n",
    "\n",
    "Exemplo     | LBR       | FCR       | FPR       | F-measure  | \n",
    "---------   | --------- | --------- | --------- |  --------- |\n",
    "LR (artigo) | 0.168     | 0.797     |  0.827    |  0.812     | \n",
    "LR          | 0.163     | 0.835     |  0.837    |  0.836     |"
   ],
   "cell_type": "markdown",
   "metadata": {}
  }
 ]
}